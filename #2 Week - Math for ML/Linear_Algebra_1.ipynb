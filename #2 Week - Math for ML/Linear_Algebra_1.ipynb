{
  "nbformat": 4,
  "nbformat_minor": 0,
  "metadata": {
    "colab": {
      "name": "Linear Algebra 1.ipynb",
      "provenance": [],
      "collapsed_sections": []
    },
    "kernelspec": {
      "name": "python3",
      "display_name": "Python 3"
    },
    "language_info": {
      "name": "python"
    }
  },
  "cells": [
    {
      "cell_type": "markdown",
      "source": [
        "#Linear Algebra"
      ],
      "metadata": {
        "id": "L3s7ofpcPoRW"
      }
    },
    {
      "cell_type": "markdown",
      "source": [
        "NumPy adalah package array tujuan umum. Ini menyediakan objek array multidimensi berkinerja tinggi, dan alat untuk bekerja dengan array ini. Ini adalah standard package untuk komputasi ilmiah dengan Python. Numpy pada dasarnya digunakan untuk membuat array n dimensi."
      ],
      "metadata": {
        "id": "MILZOwg0atr8"
      }
    },
    {
      "cell_type": "code",
      "source": [
        "import numpy as np"
      ],
      "metadata": {
        "id": "hgGsUPvEUYXH"
      },
      "execution_count": 14,
      "outputs": []
    },
    {
      "cell_type": "code",
      "execution_count": 15,
      "metadata": {
        "id": "m6mMUtWYPf36"
      },
      "outputs": [],
      "source": [
        "A = [[1, 3, 5], [7, 12, 21], [5, 18, 3]]\n",
        "B = [13, 123, 51]"
      ]
    },
    {
      "cell_type": "code",
      "source": [
        "np.linalg.solve(A,B)\n",
        "#x = 23.625 \n",
        "#y = -3.75\n",
        "#z = 0.125"
      ],
      "metadata": {
        "colab": {
          "base_uri": "https://localhost:8080/"
        },
        "id": "hkwetPctUaB8",
        "outputId": "9766c7e4-5eb0-4adb-bbfc-1b541dd04dee"
      },
      "execution_count": 16,
      "outputs": [
        {
          "output_type": "execute_result",
          "data": {
            "text/plain": [
              "array([23.625, -3.75 ,  0.125])"
            ]
          },
          "metadata": {},
          "execution_count": 16
        }
      ]
    },
    {
      "cell_type": "markdown",
      "source": [
        "###Vector\n",
        "Vektor dibangun dari komponen, yang merupakan bilangan biasa. Kita dapat menganggap vektor sebagai daftar bilangan, dan aljabar vektor sebagai operasi yang dilakukan pada bilangan dalam daftar. Dengan kata lain vektor adalah array 1-D numpy."
      ],
      "metadata": {
        "id": "iXjcCknxW7ix"
      }
    },
    {
      "cell_type": "code",
      "source": [
        "#Horizontal Vector\n",
        "import numpy as np  \n",
        "# creating list  \n",
        "list1 = [10, 20, 30, 40, 50]  \n",
        "# Creating 1-D Horizontal Array  \n",
        "vtr = np.array(list1)  \n",
        "vtr = np.array(list1)  \n",
        "print(\"We create a vector from a list:\")  \n",
        "print(vtr)  "
      ],
      "metadata": {
        "colab": {
          "base_uri": "https://localhost:8080/"
        },
        "id": "knyixnfMW7E1",
        "outputId": "2e654f21-7951-4e4e-e156-9989435ad942"
      },
      "execution_count": 17,
      "outputs": [
        {
          "output_type": "stream",
          "name": "stdout",
          "text": [
            "We create a vector from a list:\n",
            "[10 20 30 40 50]\n"
          ]
        }
      ]
    },
    {
      "cell_type": "code",
      "source": [
        "# Vertical list  \n",
        "list1 = [[12], [40],  [6],  [10]]  \n",
        "  \n",
        "# Creating 1-D Vertical Array  \n",
        "vtr = np.array(list1)  \n",
        "  \n",
        "vtr = np.array(list1)  \n",
        "  \n",
        "print(\"We create a vector from a list:\")  \n",
        "print(vtr)"
      ],
      "metadata": {
        "colab": {
          "base_uri": "https://localhost:8080/"
        },
        "id": "2gywsumMXIKS",
        "outputId": "de0cb933-9aee-47e3-9410-1c13479fafe8"
      },
      "execution_count": 23,
      "outputs": [
        {
          "output_type": "stream",
          "name": "stdout",
          "text": [
            "We create a vector from a list:\n",
            "[[12]\n",
            " [40]\n",
            " [ 6]\n",
            " [10]]\n"
          ]
        }
      ]
    },
    {
      "cell_type": "markdown",
      "source": [
        "Below is the list of basic operations that we can perform in vector.\n",
        "\n",
        "    Arithmetic\n",
        "    Subtraction\n",
        "    Multiplication\n",
        "    Division\n",
        "    Dot Product\n",
        "    Scalar Multiplications\n"
      ],
      "metadata": {
        "id": "-Rmy6hGhXWIR"
      }
    },
    {
      "cell_type": "code",
      "source": [
        "#Addition of 2 vector\n",
        "list1 = [10,20,30,40,50]   \n",
        "list2 = [11,12,13,14,15]    \n",
        "   \n",
        "vtr1 = np.array(list1)   \n",
        "vtr2= np.array(list2)   \n",
        "  \n",
        "print(\"We create vector from a list 1:\")   \n",
        "print(vtr1)   \n",
        "print(\"We create vector from a list 2:\")   \n",
        "print(vtr2)   \n",
        "   \n",
        "vctr_add = vtr1 + vtr2  \n",
        "print(\"Addition of two vectors: \",vctr_add)  "
      ],
      "metadata": {
        "colab": {
          "base_uri": "https://localhost:8080/"
        },
        "id": "TiIHR1VxXYZ-",
        "outputId": "e49419bf-1ea4-4e00-a28f-c5dacfd86177"
      },
      "execution_count": 20,
      "outputs": [
        {
          "output_type": "stream",
          "name": "stdout",
          "text": [
            "We create vector from a list 1:\n",
            "[10 20 30 40 50]\n",
            "We create vector from a list 2:\n",
            "[11 12 13 14 15]\n",
            "Addition of two vectors:  [21 32 43 54 65]\n"
          ]
        }
      ]
    },
    {
      "cell_type": "code",
      "source": [
        "#Addition of 2 vector\n",
        "list1 = [10,20,30,40,50]   \n",
        "list2 = [[11],[12],[13],[14],[15]]    \n",
        "   \n",
        "vtr1 = np.array(list1)   \n",
        "vtr2= np.array(list2)   \n",
        "  \n",
        "print(\"We create vector from a list 1:\")   \n",
        "print(vtr1)   \n",
        "print(\"We create vector from a list 2:\")   \n",
        "print(vtr2)   \n",
        "   \n",
        "vctr_add = vtr1 * vtr2  \n",
        "print(\"Addition of two vectors: \",vctr_add)  "
      ],
      "metadata": {
        "colab": {
          "base_uri": "https://localhost:8080/"
        },
        "id": "AbLCwUtOFD9b",
        "outputId": "48ebe5fa-853e-4840-92d4-80d481de445c"
      },
      "execution_count": 25,
      "outputs": [
        {
          "output_type": "stream",
          "name": "stdout",
          "text": [
            "We create vector from a list 1:\n",
            "[10 20 30 40 50]\n",
            "We create vector from a list 2:\n",
            "[[11]\n",
            " [12]\n",
            " [13]\n",
            " [14]\n",
            " [15]]\n",
            "Addition of two vectors:  [[110 220 330 440 550]\n",
            " [120 240 360 480 600]\n",
            " [130 260 390 520 650]\n",
            " [140 280 420 560 700]\n",
            " [150 300 450 600 750]]\n"
          ]
        }
      ]
    },
    {
      "cell_type": "code",
      "source": [
        "#Substraction \n",
        "list1 = [10,20,30,40,50]   \n",
        "list2 = [5,2,4,3,1]  \n",
        "   \n",
        "vtr1 = np.array(list1)   \n",
        "   \n",
        "vtr2= np.array(list2)   \n",
        "   \n",
        "print(\"We create vector from a list 1:\")   \n",
        "print(vtr1)   \n",
        "print(\"We create a vector from a list 2:\")   \n",
        "print(vtr2)   \n",
        "  \n",
        "vtr_sub = vtr1-vtr2  \n",
        "print(\"Subtraction of two vectors: \",vtr_sub)  "
      ],
      "metadata": {
        "colab": {
          "base_uri": "https://localhost:8080/"
        },
        "id": "pn_or4X4Xunx",
        "outputId": "f1775178-11d0-4226-c8f4-5c5c42b313a1"
      },
      "execution_count": 21,
      "outputs": [
        {
          "output_type": "stream",
          "name": "stdout",
          "text": [
            "We create vector from a list 1:\n",
            "[10 20 30 40 50]\n",
            "We create a vector from a list 2:\n",
            "[5 2 4 3 1]\n",
            "Subtraction of two vectors:  [ 5 18 26 37 49]\n"
          ]
        }
      ]
    },
    {
      "cell_type": "code",
      "source": [
        "#multiplication\n",
        "list1 = [10,20,30,40,50]   \n",
        "list2 = [5,2,4,3,1]  \n",
        "   \n",
        "vtr1 = np.array(list1)   \n",
        "   \n",
        "vtr2= np.array(list2)   \n",
        "   \n",
        "print(\"We create vector from a list 1:\")   \n",
        "print(vtr1)   \n",
        "print(\"We create a vector from a list 2:\")   \n",
        "print(vtr2)   \n",
        "  \n",
        "vtr_mul = vtr1*vtr2  \n",
        "print(\"Multiplication of two vectors: \",vtr_mul)  \n",
        "#Multiplication didapat dari : \n",
        "#vct[0] = x[0] * y[0]\n",
        "#vct[1] = x[1] * y[1]"
      ],
      "metadata": {
        "colab": {
          "base_uri": "https://localhost:8080/"
        },
        "id": "I265-LnkX3E8",
        "outputId": "35d9a1c8-0e7f-4b11-d5c9-1a853a644745"
      },
      "execution_count": 26,
      "outputs": [
        {
          "output_type": "stream",
          "name": "stdout",
          "text": [
            "We create vector from a list 1:\n",
            "[10 20 30 40 50]\n",
            "We create a vector from a list 2:\n",
            "[5 2 4 3 1]\n",
            "Multiplication of two vectors:  [ 50  40 120 120  50]\n"
          ]
        }
      ]
    },
    {
      "cell_type": "code",
      "source": [
        "#Division of 2 vector\n",
        "list1 = [10,20,30,40,50]   \n",
        "list2 = [5,2,4,3,1]  \n",
        "   \n",
        "vtr1 = np.array(list1)   \n",
        "   \n",
        "vtr2= np.array(list2)   \n",
        "   \n",
        "print(\"We create vector from a list 1:\")   \n",
        "print(vtr1)   \n",
        "print(\"We create a vector from a list 2:\")   \n",
        "print(vtr2)   \n",
        "  \n",
        "vtr_div = vtr1/vtr2  \n",
        "print(\"Division of two vectors: \",vtr_div)  "
      ],
      "metadata": {
        "colab": {
          "base_uri": "https://localhost:8080/"
        },
        "id": "8eEcJuhqX--u",
        "outputId": "90f3da50-0c19-4bb3-ad30-36820e783904"
      },
      "execution_count": 27,
      "outputs": [
        {
          "output_type": "stream",
          "name": "stdout",
          "text": [
            "We create vector from a list 1:\n",
            "[10 20 30 40 50]\n",
            "We create a vector from a list 2:\n",
            "[5 2 4 3 1]\n",
            "Division of two vectors:  [ 2.         10.          7.5        13.33333333 50.        ]\n"
          ]
        }
      ]
    },
    {
      "cell_type": "code",
      "source": [
        "# Vector Dot Product\n",
        "#The vector dot product performs between the two same-length sequential vectors and returns the single dot product. \n",
        "#We will use the .dot() method to perform the dot product \n",
        "#vector c = x . y = (x1 * y1 + x2 * y2) \n",
        "\n",
        "list1 = [10,20,30,40,50]   \n",
        "list2 = [5,2,4,3,1]  \n",
        "   \n",
        "vtr1 = np.array(list1)   \n",
        "   \n",
        "vtr2= np.array(list2)   \n",
        "   \n",
        "print(\"We create vector from a list 1:\")   \n",
        "print(vtr1)   \n",
        "print(\"We create a vector from a list 2:\")   \n",
        "print(vtr2)   \n",
        "  \n",
        "vtr_product = vtr1.dot(vtr2)  \n",
        "print(\"Dot product of two vectors: \",vtr_product)  \n",
        "#(5*10)+(2*20)+(4*30)+(3*40)+(1*50) = 50+40+120+120+50 =380\n",
        "print(vtr1[0])"
      ],
      "metadata": {
        "colab": {
          "base_uri": "https://localhost:8080/"
        },
        "id": "Y6FvoP3BYced",
        "outputId": "0c41ee1e-58fe-4d4c-d4a0-0cbf510baa21"
      },
      "execution_count": 29,
      "outputs": [
        {
          "output_type": "stream",
          "name": "stdout",
          "text": [
            "We create vector from a list 1:\n",
            "[10 20 30 40 50]\n",
            "We create a vector from a list 2:\n",
            "[5 2 4 3 1]\n",
            "Dot product of two vectors:  380\n",
            "10\n"
          ]
        }
      ]
    },
    {
      "cell_type": "code",
      "source": [
        "#Vector scalar\n",
        "#we multiply the scalar with the each component of the vector\n",
        "list1 = [10,20,30,40,50]   \n",
        "vtr1 = np.array(list1)   \n",
        "       \n",
        "scalar_value = 5  \n",
        "       \n",
        "print(\"We create vector from a list 1:\")   \n",
        "print(vtr1)   \n",
        "      \n",
        "# printing scalar value   \n",
        "print(\"Scalar Value  : \" + str(scalar_value))   \n",
        "       \n",
        "vtr_scalar = vtr1 * scalar_value  \n",
        "print(\"Multiplication of two vectors: \",vtr_scalar)  "
      ],
      "metadata": {
        "colab": {
          "base_uri": "https://localhost:8080/"
        },
        "id": "uIjft-0GYrqg",
        "outputId": "a1fbb470-f057-40cd-9ec5-e27611ddbf4c"
      },
      "execution_count": 30,
      "outputs": [
        {
          "output_type": "stream",
          "name": "stdout",
          "text": [
            "We create vector from a list 1:\n",
            "[10 20 30 40 50]\n",
            "Scalar Value  : 5\n",
            "Multiplication of two vectors:  [ 50 100 150 200 250]\n"
          ]
        }
      ]
    },
    {
      "cell_type": "markdown",
      "source": [
        "###Projection Vector"
      ],
      "metadata": {
        "id": "-Rv0Hg6HbNrn"
      }
    },
    {
      "cell_type": "code",
      "source": [
        "# import numpy to perform operations on vector\n",
        "import numpy as np\n",
        "\n",
        "u = np.array([1, 2, 3]) # vector u\n",
        "v = np.array([5, 6, 2]) # vector v:\n",
        "\n",
        "# Task: Project vector u on vector v\n",
        "\n",
        "# finding norm of the vector v\n",
        "v_norm = np.sqrt(sum(v**2))\t\n",
        "\n",
        "# Apply the formula as mentioned above\n",
        "# for projecting a vector onto another vector\n",
        "# find dot product using np.dot()\n",
        "proj_of_u_on_v = (np.dot(u, v)/v_norm**2)*v\n",
        "\n",
        "print(\"Projection of Vector u on Vector v is: \", proj_of_u_on_v)"
      ],
      "metadata": {
        "colab": {
          "base_uri": "https://localhost:8080/"
        },
        "id": "nIF_CRPnZGvS",
        "outputId": "c1323ad4-42c4-435c-de33-359d08958d5e"
      },
      "execution_count": null,
      "outputs": [
        {
          "output_type": "stream",
          "name": "stdout",
          "text": [
            "Projection of Vector u on Vector v is:  [1.76923077 2.12307692 0.70769231]\n"
          ]
        }
      ]
    },
    {
      "cell_type": "code",
      "source": [
        "(np.dot(u, v)/np.dot(v, v))*v"
      ],
      "metadata": {
        "colab": {
          "base_uri": "https://localhost:8080/"
        },
        "id": "74CNM40TtSmk",
        "outputId": "c7973e65-f261-453f-9863-3a81b235f221"
      },
      "execution_count": null,
      "outputs": [
        {
          "output_type": "execute_result",
          "data": {
            "text/plain": [
              "array([1.76923077, 2.12307692, 0.70769231])"
            ]
          },
          "metadata": {},
          "execution_count": 3
        }
      ]
    },
    {
      "cell_type": "code",
      "source": [
        "# Computing vector projection onto a Plane in Python:\n",
        "import numpy as np\n",
        "  \n",
        "# vector u \n",
        "u = np.array([2, 5, 8])       \n",
        "  \n",
        "# vector n: n is orthogonal vector to Plane P\n",
        "n = np.array([1, 1, 7])       \n",
        "   \n",
        "# Task: Project vector u on Plane P\n",
        "  \n",
        "# finding norm of the vector n \n",
        "n_norm = np.sqrt(sum(n**2))    \n",
        "   \n",
        "# Apply the formula as mentioned above\n",
        "# for projecting a vector onto the orthogonal vector n\n",
        "# find dot product using np.dot()\n",
        "proj_of_u_on_n = (np.dot(u, n)/n_norm**2)*n\n",
        "  \n",
        "# subtract proj_of_u_on_n from u: \n",
        "# this is the projection of u on Plane P\n",
        "print(\"Projection of Vector u on Plane P is: \", u - proj_of_u_on_n)"
      ],
      "metadata": {
        "colab": {
          "base_uri": "https://localhost:8080/"
        },
        "id": "OBVuyZJmtsOq",
        "outputId": "98975a71-ee08-410a-ae60-1c1d83c25fac"
      },
      "execution_count": null,
      "outputs": [
        {
          "output_type": "stream",
          "name": "stdout",
          "text": [
            "Projection of Vector u on Plane P is:  [ 0.76470588  3.76470588 -0.64705882]\n"
          ]
        }
      ]
    },
    {
      "cell_type": "markdown",
      "source": [
        "###Basis"
      ],
      "metadata": {
        "id": "eouyO0n3zPjC"
      }
    },
    {
      "cell_type": "code",
      "source": [
        "#Changing basis \n",
        "vec_old = [3, 4]\n",
        "#Standard\n",
        "w1 = [-2,4]\n",
        "w2 = [2,1]\n",
        "#Basis baru\n",
        "vec_new = np.linalg.inv(np.array([w2,w1])).dot(vec_old)\n",
        "print(vec_new)"
      ],
      "metadata": {
        "colab": {
          "base_uri": "https://localhost:8080/"
        },
        "id": "DaUtWLjuv8Je",
        "outputId": "223c72d4-a53e-4f26-bd98-bc0f59c569ad"
      },
      "execution_count": 31,
      "outputs": [
        {
          "output_type": "stream",
          "name": "stdout",
          "text": [
            "[0.8 1.4]\n"
          ]
        }
      ]
    },
    {
      "cell_type": "code",
      "source": [
        "vec_old = [1,2,3]\n",
        "#Standard\n",
        "w1 = [1, 0, 0]\n",
        "w2 = [0, 0, 1]\n",
        "w3 = [0, 1, 0]\n",
        "#Basis baru\n",
        "vec_new = np.linalg.inv(np.array([w1, w2, w3])).dot(vec_old)\n",
        "print(vec_new)"
      ],
      "metadata": {
        "colab": {
          "base_uri": "https://localhost:8080/"
        },
        "id": "Xwv-JQ07t-pY",
        "outputId": "dc84f9d8-2232-41a5-a183-c498f76f9892"
      },
      "execution_count": 32,
      "outputs": [
        {
          "output_type": "stream",
          "name": "stdout",
          "text": [
            "[1. 3. 2.]\n"
          ]
        }
      ]
    }
  ]
}